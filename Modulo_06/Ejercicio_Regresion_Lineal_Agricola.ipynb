{
 "cells": [
  {
   "cell_type": "markdown",
   "id": "78a4ea2d",
   "metadata": {},
   "source": [
    "\n",
    "# Ejercicio: Regresión Lineal con datos agrícolas\n",
    "\n",
    "En este notebook aplicarás **Regresión Lineal** para predecir la variable `Producción_Ton` a partir de otras variables agrícolas y económicas.\n",
    "\n",
    "📂 **Base de datos**: `datos_regresion_lineal_agricola.xlsx`  \n",
    "- Hoja **Datos**: registros.  \n",
    "- Hoja **Diccionario**: descripción de variables.\n",
    "\n",
    "---\n",
    "\n",
    "## Objetivo del ejercicio\n",
    "- Construir un modelo de **Regresión Lineal** con scikit-learn.  \n",
    "- Aplicar buenas prácticas de preprocesamiento, entrenamiento, evaluación y visualización.  \n",
    "- Interpretar resultados en el contexto agrícola.\n",
    "\n",
    "**Nota**: este notebook contiene consignas y celdas vacías para que los alumnos lo completen.\n"
   ]
  },
  {
   "cell_type": "markdown",
   "id": "e4c10caf",
   "metadata": {},
   "source": [
    "## 1) Preparación de entorno"
   ]
  },
  {
   "cell_type": "code",
   "execution_count": 18,
   "id": "b0f30d14",
   "metadata": {},
   "outputs": [],
   "source": [
    "import pandas as pd\n",
    "import numpy as np\n",
    "import matplotlib.pyplot as plt\n",
    "\n",
    "from sklearn.model_selection import train_test_split\n",
    "from sklearn.compose import ColumnTransformer\n",
    "from sklearn.preprocessing import OneHotEncoder, StandardScaler\n",
    "from sklearn.impute import SimpleImputer\n",
    "from sklearn.pipeline import Pipeline\n",
    "from sklearn.linear_model import LinearRegression\n",
    "from sklearn.metrics import mean_absolute_error, mean_squared_error, r2_score"
   ]
  },
  {
   "cell_type": "markdown",
   "id": "d902069a",
   "metadata": {},
   "source": [
    "## 2) Cargar y explorar los datos"
   ]
  },
  {
   "cell_type": "code",
   "execution_count": 19,
   "id": "34d781c5",
   "metadata": {},
   "outputs": [
    {
     "data": {
      "text/html": [
       "<div>\n",
       "<style scoped>\n",
       "    .dataframe tbody tr th:only-of-type {\n",
       "        vertical-align: middle;\n",
       "    }\n",
       "\n",
       "    .dataframe tbody tr th {\n",
       "        vertical-align: top;\n",
       "    }\n",
       "\n",
       "    .dataframe thead th {\n",
       "        text-align: right;\n",
       "    }\n",
       "</style>\n",
       "<table border=\"1\" class=\"dataframe\">\n",
       "  <thead>\n",
       "    <tr style=\"text-align: right;\">\n",
       "      <th></th>\n",
       "      <th>Año</th>\n",
       "      <th>Mes</th>\n",
       "      <th>Región</th>\n",
       "      <th>Cultivo</th>\n",
       "      <th>Superficie_Ha</th>\n",
       "      <th>Producción_Ton</th>\n",
       "      <th>Precio_Ton</th>\n",
       "      <th>Costos_Insumos</th>\n",
       "      <th>Ingresos</th>\n",
       "      <th>Utilidad</th>\n",
       "    </tr>\n",
       "  </thead>\n",
       "  <tbody>\n",
       "    <tr>\n",
       "      <th>0</th>\n",
       "      <td>2023</td>\n",
       "      <td>1</td>\n",
       "      <td>Norte</td>\n",
       "      <td>Maíz</td>\n",
       "      <td>122</td>\n",
       "      <td>749</td>\n",
       "      <td>316.95</td>\n",
       "      <td>12541</td>\n",
       "      <td>237319.70</td>\n",
       "      <td>224778.70</td>\n",
       "    </tr>\n",
       "    <tr>\n",
       "      <th>1</th>\n",
       "      <td>2023</td>\n",
       "      <td>1</td>\n",
       "      <td>Norte</td>\n",
       "      <td>Soja</td>\n",
       "      <td>141</td>\n",
       "      <td>422</td>\n",
       "      <td>273.40</td>\n",
       "      <td>2574</td>\n",
       "      <td>115405.98</td>\n",
       "      <td>112831.98</td>\n",
       "    </tr>\n",
       "    <tr>\n",
       "      <th>2</th>\n",
       "      <td>2023</td>\n",
       "      <td>1</td>\n",
       "      <td>Norte</td>\n",
       "      <td>Trigo</td>\n",
       "      <td>107</td>\n",
       "      <td>328</td>\n",
       "      <td>311.12</td>\n",
       "      <td>2543</td>\n",
       "      <td>101962.95</td>\n",
       "      <td>99419.95</td>\n",
       "    </tr>\n",
       "    <tr>\n",
       "      <th>3</th>\n",
       "      <td>2023</td>\n",
       "      <td>1</td>\n",
       "      <td>Norte</td>\n",
       "      <td>Manzana</td>\n",
       "      <td>363</td>\n",
       "      <td>2874</td>\n",
       "      <td>274.87</td>\n",
       "      <td>5428</td>\n",
       "      <td>789881.63</td>\n",
       "      <td>784453.63</td>\n",
       "    </tr>\n",
       "    <tr>\n",
       "      <th>4</th>\n",
       "      <td>2023</td>\n",
       "      <td>1</td>\n",
       "      <td>Norte</td>\n",
       "      <td>Tomate</td>\n",
       "      <td>211</td>\n",
       "      <td>1446</td>\n",
       "      <td>131.99</td>\n",
       "      <td>2363</td>\n",
       "      <td>190802.69</td>\n",
       "      <td>188439.69</td>\n",
       "    </tr>\n",
       "  </tbody>\n",
       "</table>\n",
       "</div>"
      ],
      "text/plain": [
       "    Año  Mes Región  Cultivo  Superficie_Ha  Producción_Ton  Precio_Ton  \\\n",
       "0  2023    1  Norte     Maíz            122             749      316.95   \n",
       "1  2023    1  Norte     Soja            141             422      273.40   \n",
       "2  2023    1  Norte    Trigo            107             328      311.12   \n",
       "3  2023    1  Norte  Manzana            363            2874      274.87   \n",
       "4  2023    1  Norte   Tomate            211            1446      131.99   \n",
       "\n",
       "   Costos_Insumos   Ingresos   Utilidad  \n",
       "0           12541  237319.70  224778.70  \n",
       "1            2574  115405.98  112831.98  \n",
       "2            2543  101962.95   99419.95  \n",
       "3            5428  789881.63  784453.63  \n",
       "4            2363  190802.69  188439.69  "
      ]
     },
     "execution_count": 19,
     "metadata": {},
     "output_type": "execute_result"
    }
   ],
   "source": [
    "# Ruta al archivo Excel generado previamente\n",
    "file_path = \"ejercicio_1_datos_regresion_lineal_agricola.xlsx\"\n",
    "\n",
    "# Cargar datos de la hoja 'Datos'\n",
    "df = pd.read_excel(file_path, sheet_name=\"Datos\")\n",
    "\n",
    "# Mostrar primeras filas\n",
    "df.head()"
   ]
  },
  {
   "cell_type": "code",
   "execution_count": 20,
   "id": "082ebd69",
   "metadata": {},
   "outputs": [
    {
     "name": "stdout",
     "output_type": "stream",
     "text": [
      "<class 'pandas.core.frame.DataFrame'>\n",
      "RangeIndex: 480 entries, 0 to 479\n",
      "Data columns (total 10 columns):\n",
      " #   Column          Non-Null Count  Dtype  \n",
      "---  ------          --------------  -----  \n",
      " 0   Año             480 non-null    int64  \n",
      " 1   Mes             480 non-null    int64  \n",
      " 2   Región          480 non-null    object \n",
      " 3   Cultivo         480 non-null    object \n",
      " 4   Superficie_Ha   480 non-null    int64  \n",
      " 5   Producción_Ton  480 non-null    int64  \n",
      " 6   Precio_Ton      480 non-null    float64\n",
      " 7   Costos_Insumos  480 non-null    int64  \n",
      " 8   Ingresos        480 non-null    float64\n",
      " 9   Utilidad        480 non-null    float64\n",
      "dtypes: float64(3), int64(5), object(2)\n",
      "memory usage: 37.6+ KB\n"
     ]
    },
    {
     "data": {
      "text/html": [
       "<div>\n",
       "<style scoped>\n",
       "    .dataframe tbody tr th:only-of-type {\n",
       "        vertical-align: middle;\n",
       "    }\n",
       "\n",
       "    .dataframe tbody tr th {\n",
       "        vertical-align: top;\n",
       "    }\n",
       "\n",
       "    .dataframe thead th {\n",
       "        text-align: right;\n",
       "    }\n",
       "</style>\n",
       "<table border=\"1\" class=\"dataframe\">\n",
       "  <thead>\n",
       "    <tr style=\"text-align: right;\">\n",
       "      <th></th>\n",
       "      <th>count</th>\n",
       "      <th>unique</th>\n",
       "      <th>top</th>\n",
       "      <th>freq</th>\n",
       "      <th>mean</th>\n",
       "      <th>std</th>\n",
       "      <th>min</th>\n",
       "      <th>25%</th>\n",
       "      <th>50%</th>\n",
       "      <th>75%</th>\n",
       "      <th>max</th>\n",
       "    </tr>\n",
       "  </thead>\n",
       "  <tbody>\n",
       "    <tr>\n",
       "      <th>Año</th>\n",
       "      <td>480.0</td>\n",
       "      <td>NaN</td>\n",
       "      <td>NaN</td>\n",
       "      <td>NaN</td>\n",
       "      <td>2023.5</td>\n",
       "      <td>0.500522</td>\n",
       "      <td>2023.0</td>\n",
       "      <td>2023.0</td>\n",
       "      <td>2023.5</td>\n",
       "      <td>2024.0</td>\n",
       "      <td>2024.0</td>\n",
       "    </tr>\n",
       "    <tr>\n",
       "      <th>Mes</th>\n",
       "      <td>480.0</td>\n",
       "      <td>NaN</td>\n",
       "      <td>NaN</td>\n",
       "      <td>NaN</td>\n",
       "      <td>6.5</td>\n",
       "      <td>3.455654</td>\n",
       "      <td>1.0</td>\n",
       "      <td>3.75</td>\n",
       "      <td>6.5</td>\n",
       "      <td>9.25</td>\n",
       "      <td>12.0</td>\n",
       "    </tr>\n",
       "    <tr>\n",
       "      <th>Región</th>\n",
       "      <td>480</td>\n",
       "      <td>4</td>\n",
       "      <td>Norte</td>\n",
       "      <td>120</td>\n",
       "      <td>NaN</td>\n",
       "      <td>NaN</td>\n",
       "      <td>NaN</td>\n",
       "      <td>NaN</td>\n",
       "      <td>NaN</td>\n",
       "      <td>NaN</td>\n",
       "      <td>NaN</td>\n",
       "    </tr>\n",
       "    <tr>\n",
       "      <th>Cultivo</th>\n",
       "      <td>480</td>\n",
       "      <td>5</td>\n",
       "      <td>Maíz</td>\n",
       "      <td>96</td>\n",
       "      <td>NaN</td>\n",
       "      <td>NaN</td>\n",
       "      <td>NaN</td>\n",
       "      <td>NaN</td>\n",
       "      <td>NaN</td>\n",
       "      <td>NaN</td>\n",
       "      <td>NaN</td>\n",
       "    </tr>\n",
       "    <tr>\n",
       "      <th>Superficie_Ha</th>\n",
       "      <td>480.0</td>\n",
       "      <td>NaN</td>\n",
       "      <td>NaN</td>\n",
       "      <td>NaN</td>\n",
       "      <td>253.041667</td>\n",
       "      <td>141.376776</td>\n",
       "      <td>20.0</td>\n",
       "      <td>137.0</td>\n",
       "      <td>245.0</td>\n",
       "      <td>378.25</td>\n",
       "      <td>499.0</td>\n",
       "    </tr>\n",
       "    <tr>\n",
       "      <th>Producción_Ton</th>\n",
       "      <td>480.0</td>\n",
       "      <td>NaN</td>\n",
       "      <td>NaN</td>\n",
       "      <td>NaN</td>\n",
       "      <td>1613.71875</td>\n",
       "      <td>1157.53085</td>\n",
       "      <td>48.0</td>\n",
       "      <td>677.25</td>\n",
       "      <td>1314.5</td>\n",
       "      <td>2412.5</td>\n",
       "      <td>5403.0</td>\n",
       "    </tr>\n",
       "    <tr>\n",
       "      <th>Precio_Ton</th>\n",
       "      <td>480.0</td>\n",
       "      <td>NaN</td>\n",
       "      <td>NaN</td>\n",
       "      <td>NaN</td>\n",
       "      <td>254.586896</td>\n",
       "      <td>74.45154</td>\n",
       "      <td>100.09</td>\n",
       "      <td>193.8125</td>\n",
       "      <td>265.365</td>\n",
       "      <td>312.11</td>\n",
       "      <td>397.48</td>\n",
       "    </tr>\n",
       "    <tr>\n",
       "      <th>Costos_Insumos</th>\n",
       "      <td>480.0</td>\n",
       "      <td>NaN</td>\n",
       "      <td>NaN</td>\n",
       "      <td>NaN</td>\n",
       "      <td>10438.29375</td>\n",
       "      <td>5545.255615</td>\n",
       "      <td>1543.0</td>\n",
       "      <td>5399.5</td>\n",
       "      <td>10356.5</td>\n",
       "      <td>15137.25</td>\n",
       "      <td>19957.0</td>\n",
       "    </tr>\n",
       "    <tr>\n",
       "      <th>Ingresos</th>\n",
       "      <td>480.0</td>\n",
       "      <td>NaN</td>\n",
       "      <td>NaN</td>\n",
       "      <td>NaN</td>\n",
       "      <td>379991.904521</td>\n",
       "      <td>263489.847762</td>\n",
       "      <td>17546.34</td>\n",
       "      <td>179413.99</td>\n",
       "      <td>334503.955</td>\n",
       "      <td>515130.73</td>\n",
       "      <td>1451367.44</td>\n",
       "    </tr>\n",
       "    <tr>\n",
       "      <th>Utilidad</th>\n",
       "      <td>480.0</td>\n",
       "      <td>NaN</td>\n",
       "      <td>NaN</td>\n",
       "      <td>NaN</td>\n",
       "      <td>369553.610771</td>\n",
       "      <td>263795.833364</td>\n",
       "      <td>240.34</td>\n",
       "      <td>167052.425</td>\n",
       "      <td>322863.2</td>\n",
       "      <td>504072.8175</td>\n",
       "      <td>1442403.44</td>\n",
       "    </tr>\n",
       "  </tbody>\n",
       "</table>\n",
       "</div>"
      ],
      "text/plain": [
       "                count unique    top freq           mean            std  \\\n",
       "Año             480.0    NaN    NaN  NaN         2023.5       0.500522   \n",
       "Mes             480.0    NaN    NaN  NaN            6.5       3.455654   \n",
       "Región            480      4  Norte  120            NaN            NaN   \n",
       "Cultivo           480      5   Maíz   96            NaN            NaN   \n",
       "Superficie_Ha   480.0    NaN    NaN  NaN     253.041667     141.376776   \n",
       "Producción_Ton  480.0    NaN    NaN  NaN     1613.71875     1157.53085   \n",
       "Precio_Ton      480.0    NaN    NaN  NaN     254.586896       74.45154   \n",
       "Costos_Insumos  480.0    NaN    NaN  NaN    10438.29375    5545.255615   \n",
       "Ingresos        480.0    NaN    NaN  NaN  379991.904521  263489.847762   \n",
       "Utilidad        480.0    NaN    NaN  NaN  369553.610771  263795.833364   \n",
       "\n",
       "                     min         25%         50%          75%         max  \n",
       "Año               2023.0      2023.0      2023.5       2024.0      2024.0  \n",
       "Mes                  1.0        3.75         6.5         9.25        12.0  \n",
       "Región               NaN         NaN         NaN          NaN         NaN  \n",
       "Cultivo              NaN         NaN         NaN          NaN         NaN  \n",
       "Superficie_Ha       20.0       137.0       245.0       378.25       499.0  \n",
       "Producción_Ton      48.0      677.25      1314.5       2412.5      5403.0  \n",
       "Precio_Ton        100.09    193.8125     265.365       312.11      397.48  \n",
       "Costos_Insumos    1543.0      5399.5     10356.5     15137.25     19957.0  \n",
       "Ingresos        17546.34   179413.99  334503.955    515130.73  1451367.44  \n",
       "Utilidad          240.34  167052.425    322863.2  504072.8175  1442403.44  "
      ]
     },
     "execution_count": 20,
     "metadata": {},
     "output_type": "execute_result"
    }
   ],
   "source": [
    "# Información general de las columnas\n",
    "df.info()\n",
    "\n",
    "# Estadísticas descriptivas\n",
    "df.describe(include=\"all\").T"
   ]
  },
  {
   "cell_type": "markdown",
   "id": "e793f2d6",
   "metadata": {},
   "source": [
    "## 3) Análisis exploratorio (EDA)"
   ]
  },
  {
   "cell_type": "code",
   "execution_count": 21,
   "id": "c1b4f989",
   "metadata": {},
   "outputs": [],
   "source": [
    "\n",
    "# Calcula estadísticas agrupadas por 'Cultivo' y 'Región' (ejemplo: media de Producción_Ton)\n"
   ]
  },
  {
   "cell_type": "code",
   "execution_count": 22,
   "id": "cc50d632",
   "metadata": {},
   "outputs": [],
   "source": [
    "\n",
    "# Realiza al menos un gráfico exploratorio (ej: Producción_Ton vs Superficie_Ha)\n"
   ]
  },
  {
   "cell_type": "markdown",
   "id": "dd05da5a",
   "metadata": {},
   "source": [
    "## 4) Definición de variables para el modelo"
   ]
  },
  {
   "cell_type": "code",
   "execution_count": 23,
   "id": "501d84bd",
   "metadata": {},
   "outputs": [],
   "source": [
    "\n",
    "# Define X con variables: Año, Mes, Región, Cultivo, Superficie_Ha, Precio_Ton, Costos_Insumos\n",
    "# Define y como Producción_Ton\n"
   ]
  },
  {
   "cell_type": "markdown",
   "id": "98f3392b",
   "metadata": {},
   "source": [
    "## 5) División de datos en Train/Test"
   ]
  },
  {
   "cell_type": "code",
   "execution_count": 24,
   "id": "d7e24ba7",
   "metadata": {},
   "outputs": [],
   "source": [
    "\n",
    "# Separa en entrenamiento y prueba (80/20)\n"
   ]
  },
  {
   "cell_type": "markdown",
   "id": "d072f363",
   "metadata": {},
   "source": [
    "## 6) Preprocesamiento"
   ]
  },
  {
   "cell_type": "code",
   "execution_count": 25,
   "id": "acdd5464",
   "metadata": {},
   "outputs": [],
   "source": [
    "\n",
    "# Crea transformadores para variables numéricas (imputer + scaler) y categóricas (imputer + onehot)\n",
    "# Une ambos en un ColumnTransformer\n"
   ]
  },
  {
   "cell_type": "markdown",
   "id": "79a26e10",
   "metadata": {},
   "source": [
    "## 7) Entrenamiento del modelo"
   ]
  },
  {
   "cell_type": "code",
   "execution_count": 26,
   "id": "f91fce26",
   "metadata": {},
   "outputs": [],
   "source": [
    "\n",
    "# Construye un Pipeline con preprocesamiento + LinearRegression\n",
    "# Ajusta el modelo con .fit()\n"
   ]
  },
  {
   "cell_type": "markdown",
   "id": "21488fb5",
   "metadata": {},
   "source": [
    "## 8) Evaluación"
   ]
  },
  {
   "cell_type": "code",
   "execution_count": 27,
   "id": "ed774bce",
   "metadata": {},
   "outputs": [],
   "source": [
    "\n",
    "# Calcula métricas: MAE, RMSE, R2\n"
   ]
  },
  {
   "cell_type": "code",
   "execution_count": 28,
   "id": "6d2bc2a4",
   "metadata": {},
   "outputs": [],
   "source": [
    "\n",
    "# Imprime las métricas con formato legible\n"
   ]
  },
  {
   "cell_type": "markdown",
   "id": "6bf2675f",
   "metadata": {},
   "source": [
    "## 9) Gráfico Predicho vs Real"
   ]
  },
  {
   "cell_type": "code",
   "execution_count": 29,
   "id": "61d6aa35",
   "metadata": {},
   "outputs": [],
   "source": [
    "\n",
    "# Genera gráfico de dispersión de y_test vs y_pred y añade línea diagonal\n"
   ]
  },
  {
   "cell_type": "markdown",
   "id": "d5bf456a",
   "metadata": {},
   "source": [
    "## 10) Diagnóstico de residuos (opcional)"
   ]
  },
  {
   "cell_type": "code",
   "execution_count": 30,
   "id": "c6643552",
   "metadata": {},
   "outputs": [],
   "source": [
    "\n",
    "# Calcula residuos (y_test - y_pred) y grafícalos contra y_pred\n"
   ]
  },
  {
   "cell_type": "markdown",
   "id": "477ac885",
   "metadata": {},
   "source": [
    "## 11) Interpretación de coeficientes (opcional)"
   ]
  },
  {
   "cell_type": "code",
   "execution_count": 31,
   "id": "064fa519",
   "metadata": {},
   "outputs": [],
   "source": [
    "\n",
    "# Extrae coeficientes del modelo lineal y relaciónalos con las variables\n"
   ]
  },
  {
   "cell_type": "markdown",
   "id": "a17bbb31",
   "metadata": {},
   "source": [
    "## 12) Conclusiones"
   ]
  },
  {
   "cell_type": "markdown",
   "id": "ca0c673e",
   "metadata": {},
   "source": [
    "\n",
    "Escribe una interpretación en 5–8 líneas sobre:\n",
    "- Qué tan bien funciona el modelo (según métricas y gráficos).\n",
    "- Limitaciones observadas.\n",
    "- Posibles mejoras (variables derivadas, otros algoritmos).\n"
   ]
  }
 ],
 "metadata": {
  "kernelspec": {
   "display_name": "Python 3",
   "language": "python",
   "name": "python3"
  },
  "language_info": {
   "codemirror_mode": {
    "name": "ipython",
    "version": 3
   },
   "file_extension": ".py",
   "mimetype": "text/x-python",
   "name": "python",
   "nbconvert_exporter": "python",
   "pygments_lexer": "ipython3",
   "version": "3.10.0"
  }
 },
 "nbformat": 4,
 "nbformat_minor": 5
}
